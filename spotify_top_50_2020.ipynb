{
 "cells": [
  {
   "cell_type": "markdown",
   "id": "4da768e5",
   "metadata": {},
   "source": [
    "### Top 50 Tracks list in Spotify 2020 analysis"
   ]
  },
  {
   "cell_type": "code",
   "execution_count": 147,
   "id": "f52fd1e4",
   "metadata": {
    "scrolled": false
   },
   "outputs": [
    {
     "data": {
      "text/html": [
       "<div>\n",
       "<style scoped>\n",
       "    .dataframe tbody tr th:only-of-type {\n",
       "        vertical-align: middle;\n",
       "    }\n",
       "\n",
       "    .dataframe tbody tr th {\n",
       "        vertical-align: top;\n",
       "    }\n",
       "\n",
       "    .dataframe thead th {\n",
       "        text-align: right;\n",
       "    }\n",
       "</style>\n",
       "<table border=\"1\" class=\"dataframe\">\n",
       "  <thead>\n",
       "    <tr style=\"text-align: right;\">\n",
       "      <th></th>\n",
       "      <th>artist</th>\n",
       "      <th>album</th>\n",
       "      <th>track_name</th>\n",
       "      <th>track_id</th>\n",
       "      <th>energy</th>\n",
       "      <th>danceability</th>\n",
       "      <th>key</th>\n",
       "      <th>loudness</th>\n",
       "      <th>acousticness</th>\n",
       "      <th>speechiness</th>\n",
       "      <th>instrumentalness</th>\n",
       "      <th>liveness</th>\n",
       "      <th>valence</th>\n",
       "      <th>tempo</th>\n",
       "      <th>duration_ms</th>\n",
       "      <th>genre</th>\n",
       "    </tr>\n",
       "  </thead>\n",
       "  <tbody>\n",
       "    <tr>\n",
       "      <th>0</th>\n",
       "      <td>The Weeknd</td>\n",
       "      <td>After Hours</td>\n",
       "      <td>Blinding Lights</td>\n",
       "      <td>0VjIjW4GlUZAMYd2vXMi3b</td>\n",
       "      <td>0.730</td>\n",
       "      <td>0.514</td>\n",
       "      <td>1</td>\n",
       "      <td>-5.934</td>\n",
       "      <td>0.00146</td>\n",
       "      <td>0.0598</td>\n",
       "      <td>0.000095</td>\n",
       "      <td>0.0897</td>\n",
       "      <td>0.334</td>\n",
       "      <td>171.005</td>\n",
       "      <td>200040</td>\n",
       "      <td>R&amp;B/Soul</td>\n",
       "    </tr>\n",
       "    <tr>\n",
       "      <th>1</th>\n",
       "      <td>Tones And I</td>\n",
       "      <td>Dance Monkey</td>\n",
       "      <td>Dance Monkey</td>\n",
       "      <td>1rgnBhdG2JDFTbYkYRZAku</td>\n",
       "      <td>0.593</td>\n",
       "      <td>0.825</td>\n",
       "      <td>6</td>\n",
       "      <td>-6.401</td>\n",
       "      <td>0.68800</td>\n",
       "      <td>0.0988</td>\n",
       "      <td>0.000161</td>\n",
       "      <td>0.1700</td>\n",
       "      <td>0.540</td>\n",
       "      <td>98.078</td>\n",
       "      <td>209755</td>\n",
       "      <td>Alternative/Indie</td>\n",
       "    </tr>\n",
       "    <tr>\n",
       "      <th>2</th>\n",
       "      <td>Roddy Ricch</td>\n",
       "      <td>Please Excuse Me For Being Antisocial</td>\n",
       "      <td>The Box</td>\n",
       "      <td>0nbXyq5TXYPCO7pr3N8S4I</td>\n",
       "      <td>0.586</td>\n",
       "      <td>0.896</td>\n",
       "      <td>10</td>\n",
       "      <td>-6.687</td>\n",
       "      <td>0.10400</td>\n",
       "      <td>0.0559</td>\n",
       "      <td>0.000000</td>\n",
       "      <td>0.7900</td>\n",
       "      <td>0.642</td>\n",
       "      <td>116.971</td>\n",
       "      <td>196653</td>\n",
       "      <td>Hip-Hop/Rap</td>\n",
       "    </tr>\n",
       "    <tr>\n",
       "      <th>3</th>\n",
       "      <td>SAINt JHN</td>\n",
       "      <td>Roses (Imanbek Remix)</td>\n",
       "      <td>Roses - Imanbek Remix</td>\n",
       "      <td>2Wo6QQD1KMDWeFkkjLqwx5</td>\n",
       "      <td>0.721</td>\n",
       "      <td>0.785</td>\n",
       "      <td>8</td>\n",
       "      <td>-5.457</td>\n",
       "      <td>0.01490</td>\n",
       "      <td>0.0506</td>\n",
       "      <td>0.004320</td>\n",
       "      <td>0.2850</td>\n",
       "      <td>0.894</td>\n",
       "      <td>121.962</td>\n",
       "      <td>176219</td>\n",
       "      <td>Dance/Electronic</td>\n",
       "    </tr>\n",
       "    <tr>\n",
       "      <th>4</th>\n",
       "      <td>Dua Lipa</td>\n",
       "      <td>Future Nostalgia</td>\n",
       "      <td>Don't Start Now</td>\n",
       "      <td>3PfIrDoz19wz7qK7tYeu62</td>\n",
       "      <td>0.793</td>\n",
       "      <td>0.793</td>\n",
       "      <td>11</td>\n",
       "      <td>-4.521</td>\n",
       "      <td>0.01230</td>\n",
       "      <td>0.0830</td>\n",
       "      <td>0.000000</td>\n",
       "      <td>0.0951</td>\n",
       "      <td>0.679</td>\n",
       "      <td>123.950</td>\n",
       "      <td>183290</td>\n",
       "      <td>Nu-disco</td>\n",
       "    </tr>\n",
       "  </tbody>\n",
       "</table>\n",
       "</div>"
      ],
      "text/plain": [
       "        artist                                  album             track_name  \\\n",
       "0   The Weeknd                            After Hours        Blinding Lights   \n",
       "1  Tones And I                           Dance Monkey           Dance Monkey   \n",
       "2  Roddy Ricch  Please Excuse Me For Being Antisocial                The Box   \n",
       "3    SAINt JHN                  Roses (Imanbek Remix)  Roses - Imanbek Remix   \n",
       "4     Dua Lipa                       Future Nostalgia        Don't Start Now   \n",
       "\n",
       "                 track_id  energy  danceability  key  loudness  acousticness  \\\n",
       "0  0VjIjW4GlUZAMYd2vXMi3b   0.730         0.514    1    -5.934       0.00146   \n",
       "1  1rgnBhdG2JDFTbYkYRZAku   0.593         0.825    6    -6.401       0.68800   \n",
       "2  0nbXyq5TXYPCO7pr3N8S4I   0.586         0.896   10    -6.687       0.10400   \n",
       "3  2Wo6QQD1KMDWeFkkjLqwx5   0.721         0.785    8    -5.457       0.01490   \n",
       "4  3PfIrDoz19wz7qK7tYeu62   0.793         0.793   11    -4.521       0.01230   \n",
       "\n",
       "   speechiness  instrumentalness  liveness  valence    tempo  duration_ms  \\\n",
       "0       0.0598          0.000095    0.0897    0.334  171.005       200040   \n",
       "1       0.0988          0.000161    0.1700    0.540   98.078       209755   \n",
       "2       0.0559          0.000000    0.7900    0.642  116.971       196653   \n",
       "3       0.0506          0.004320    0.2850    0.894  121.962       176219   \n",
       "4       0.0830          0.000000    0.0951    0.679  123.950       183290   \n",
       "\n",
       "               genre  \n",
       "0           R&B/Soul  \n",
       "1  Alternative/Indie  \n",
       "2        Hip-Hop/Rap  \n",
       "3   Dance/Electronic  \n",
       "4           Nu-disco  "
      ]
     },
     "execution_count": 147,
     "metadata": {},
     "output_type": "execute_result"
    }
   ],
   "source": [
    "# Importing libraries and loading data\n",
    "\n",
    "import pandas as pd\n",
    "import numpy as np\n",
    "import timeit\n",
    "\n",
    "df = pd.read_csv('spotifytoptracks.csv', index_col=0)\n",
    "df.head()"
   ]
  },
  {
   "cell_type": "markdown",
   "id": "ecf23cbf",
   "metadata": {},
   "source": [
    "#### How many observations are there in this dataset and how many features this dataset has?"
   ]
  },
  {
   "cell_type": "code",
   "execution_count": 68,
   "id": "e8ba0ac7",
   "metadata": {},
   "outputs": [
    {
     "name": "stdout",
     "output_type": "stream",
     "text": [
      "This dataset has 50 observations and 16 features.\n"
     ]
    }
   ],
   "source": [
    "print(f'This dataset has {df.shape[0]} observations and {df.shape[1]} features.')"
   ]
  },
  {
   "cell_type": "markdown",
   "id": "dcdb4b6c",
   "metadata": {},
   "source": [
    "#### Which of the features are categorical and which are numerical?\n",
    "\n",
    "# missing description here.\n"
   ]
  },
  {
   "cell_type": "markdown",
   "id": "b9fd5f26",
   "metadata": {},
   "source": [
    "#### Handling missing values, checking duplicates and treating outliers"
   ]
  },
  {
   "cell_type": "code",
   "execution_count": 69,
   "id": "00430f1b",
   "metadata": {},
   "outputs": [
    {
     "data": {
      "text/plain": [
       "artist              False\n",
       "album               False\n",
       "track_name          False\n",
       "track_id            False\n",
       "energy              False\n",
       "danceability        False\n",
       "key                 False\n",
       "loudness            False\n",
       "acousticness        False\n",
       "speechiness         False\n",
       "instrumentalness    False\n",
       "liveness            False\n",
       "valence             False\n",
       "tempo               False\n",
       "duration_ms         False\n",
       "genre               False\n",
       "dtype: bool"
      ]
     },
     "execution_count": 69,
     "metadata": {},
     "output_type": "execute_result"
    }
   ],
   "source": [
    "# Checking if there is any null value in the dataset\n",
    "df.isnull().any()"
   ]
  },
  {
   "cell_type": "code",
   "execution_count": 70,
   "id": "a71c6b3d",
   "metadata": {},
   "outputs": [
    {
     "data": {
      "text/plain": [
       "False"
      ]
     },
     "execution_count": 70,
     "metadata": {},
     "output_type": "execute_result"
    }
   ],
   "source": [
    "# Checking if there is any duplicate in the dataset\n",
    "\n",
    "df.duplicated().any()"
   ]
  },
  {
   "cell_type": "markdown",
   "id": "2d56b7a4",
   "metadata": {},
   "source": [
    "To treat the outliers we are going to check the distribution of the data for the following features using a box plot from matplitlib inline. \n",
    "\n",
    "* #### Energy\n",
    "Measured from 0.0 to 1.0 and represents a perceptual measure of intensity and activity.\n",
    "* #### Danceability\n",
    "Measured from 0.0 to 1.0 represents how suitable a track is for dancing based on a combination of  musical elements including tempo, rhythm stability, beat strength, and overall regularity.\n",
    "* #### Loudness\n",
    "The overall loudness of a track in decibels. Values typically range between -60 and 0 db\n",
    "* #### Acousticness\n",
    "Measured from 0.0 to 1.0 Predicts whether the track is acoustic. 1.0 represents high confidence the track is acoustic.\n",
    "* #### Speechiness\n",
    "Speechiness detects the presence of spoken words in a track. Values above 0.66 describe tracks that are probably made entirely of spoken words. Values below 0.33 most likely represent music and other non-speech-like tracks.\n",
    "* #### Instrumentalness\n",
    "Measured from 0.0 to 1.0. Predicts whether a track contains no vocals. The closer the instrumentalness value is to 1.0, the greater likelihood the track contains no vocal content.\n",
    "* #### Liveness\n",
    "Detects the presence of an audience in the recording. Higher liveness values represent an increased probability that the track was performed live. > 0.8 High probability that the track is recorded live.\n",
    "* #### Valence\n",
    "A measure from 0.0 to 1.0 describing the musical positiveness conveyed by a track. High Valence - high positivity.\n",
    "* #### Duration-ms\n",
    "The duration of the track in milliseconds.\n",
    "\n",
    "We will print the min and max value to identify easily the outlier. \n",
    "For the features that has a fixed measure we want to identify those that are out of range."
   ]
  },
  {
   "cell_type": "code",
   "execution_count": 71,
   "id": "b92e78ce",
   "metadata": {
    "scrolled": true
   },
   "outputs": [
    {
     "name": "stdout",
     "output_type": "stream",
     "text": [
      "(24, 0.225)\n",
      "(35, 0.855)\n"
     ]
    },
    {
     "data": {
      "image/png": "[encoded data removed]",
      "text/plain": [
       "<Figure size 360x360 with 1 Axes>"
      ]
     },
     "metadata": {
      "needs_background": "light"
     },
     "output_type": "display_data"
    }
   ],
   "source": [
    "%matplotlib inline\n",
    "df.energy.plot.box(figsize=(5,5))\n",
    "print((df.energy.idxmin(), df.energy.min()))\n",
    "print((df.energy.idxmax(), df.energy.max()))"
   ]
  },
  {
   "cell_type": "code",
   "execution_count": 72,
   "id": "23b78697",
   "metadata": {},
   "outputs": [
    {
     "name": "stdout",
     "output_type": "stream",
     "text": [
      "(44, 0.351)\n",
      "(27, 0.935)\n"
     ]
    },
    {
     "data": {
      "image/png": "[encoded data removed]",
      "text/plain": [
       "<Figure size 360x360 with 1 Axes>"
      ]
     },
     "metadata": {
      "needs_background": "light"
     },
     "output_type": "display_data"
    }
   ],
   "source": [
    "df.danceability.plot.box(figsize=(5,5))\n",
    "print((df.danceability.idxmin(), df.danceability.min()))\n",
    "print((df.danceability.idxmax(), df.danceability.max()))"
   ]
  },
  {
   "cell_type": "code",
   "execution_count": 73,
   "id": "86514838",
   "metadata": {},
   "outputs": [
    {
     "name": "stdout",
     "output_type": "stream",
     "text": [
      "(24, -14.454)\n",
      "(10, -3.28)\n"
     ]
    },
    {
     "data": {
      "image/png": "[encoded data removed]",
      "text/plain": [
       "<Figure size 360x360 with 1 Axes>"
      ]
     },
     "metadata": {
      "needs_background": "light"
     },
     "output_type": "display_data"
    }
   ],
   "source": [
    "df.loudness.plot.box(figsize=(5,5))\n",
    "print((df.loudness.idxmin(), df.loudness.min()))\n",
    "print((df.loudness.idxmax(), df.loudness.max()))"
   ]
  },
  {
   "cell_type": "code",
   "execution_count": 74,
   "id": "c9d52ab0",
   "metadata": {},
   "outputs": [
    {
     "name": "stdout",
     "output_type": "stream",
     "text": [
      "(0, 0.00146)\n",
      "(44, 0.934)\n"
     ]
    },
    {
     "data": {
      "image/png": "[encoded data removed]",
      "text/plain": [
       "<Figure size 360x360 with 1 Axes>"
      ]
     },
     "metadata": {
      "needs_background": "light"
     },
     "output_type": "display_data"
    }
   ],
   "source": [
    "df.acousticness.plot.box(figsize=(5,5))\n",
    "print((df.acousticness.idxmin(), df.acousticness.min()))\n",
    "print((df.acousticness.idxmax(), df.acousticness.max()))"
   ]
  },
  {
   "cell_type": "code",
   "execution_count": 75,
   "id": "9569c156",
   "metadata": {},
   "outputs": [
    {
     "name": "stdout",
     "output_type": "stream",
     "text": [
      "(25, 0.029)\n",
      "(19, 0.487)\n"
     ]
    },
    {
     "data": {
      "image/png": "[encoded data removed]",
      "text/plain": [
       "<Figure size 360x360 with 1 Axes>"
      ]
     },
     "metadata": {
      "needs_background": "light"
     },
     "output_type": "display_data"
    }
   ],
   "source": [
    "df.speechiness.plot.box(figsize=(5,5))\n",
    "print((df.speechiness.idxmin(), df.speechiness.min()))\n",
    "print((df.speechiness.idxmax(), df.speechiness.max()))"
   ]
  },
  {
   "cell_type": "code",
   "execution_count": 76,
   "id": "516d9f3d",
   "metadata": {},
   "outputs": [
    {
     "name": "stdout",
     "output_type": "stream",
     "text": [
      "(2, 0.0)\n",
      "(24, 0.657)\n"
     ]
    },
    {
     "data": {
      "image/png": "[encoded data removed]",
      "text/plain": [
       "<Figure size 360x360 with 1 Axes>"
      ]
     },
     "metadata": {
      "needs_background": "light"
     },
     "output_type": "display_data"
    }
   ],
   "source": [
    "df.instrumentalness.plot.box(figsize=(5,5))\n",
    "print((df.instrumentalness.idxmin(), df.instrumentalness.min()))\n",
    "print((df.instrumentalness.idxmax(), df.instrumentalness.max()))"
   ]
  },
  {
   "cell_type": "code",
   "execution_count": 77,
   "id": "8f340a2c",
   "metadata": {},
   "outputs": [
    {
     "name": "stdout",
     "output_type": "stream",
     "text": [
      "(10, 0.0574)\n",
      "(41, 0.792)\n"
     ]
    },
    {
     "data": {
      "image/png": "[encoded data removed]",
      "text/plain": [
       "<Figure size 360x360 with 1 Axes>"
      ]
     },
     "metadata": {
      "needs_background": "light"
     },
     "output_type": "display_data"
    }
   ],
   "source": [
    "df.liveness.plot.box(figsize=(5,5))\n",
    "print((df.liveness.idxmin(), df.liveness.min()))\n",
    "print((df.liveness.idxmax(), df.liveness.max()))"
   ]
  },
  {
   "cell_type": "code",
   "execution_count": 78,
   "id": "360b90c7",
   "metadata": {},
   "outputs": [
    {
     "name": "stdout",
     "output_type": "stream",
     "text": [
      "(36, 0.0605)\n",
      "(37, 0.925)\n"
     ]
    },
    {
     "data": {
      "image/png": "[encoded data removed]",
      "text/plain": [
       "<Figure size 360x360 with 1 Axes>"
      ]
     },
     "metadata": {
      "needs_background": "light"
     },
     "output_type": "display_data"
    }
   ],
   "source": [
    "df.valence.plot.box(figsize=(5,5))\n",
    "print((df.valence.idxmin(), df.valence.min()))\n",
    "print((df.valence.idxmax(), df.valence.max()))"
   ]
  },
  {
   "cell_type": "code",
   "execution_count": 79,
   "id": "25f25a92",
   "metadata": {},
   "outputs": [
    {
     "name": "stdout",
     "output_type": "stream",
     "text": [
      "(23, 140526)\n",
      "(49, 312820)\n"
     ]
    },
    {
     "data": {
      "image/png": "[encoded data removed]",
      "text/plain": [
       "<Figure size 360x360 with 1 Axes>"
      ]
     },
     "metadata": {
      "needs_background": "light"
     },
     "output_type": "display_data"
    }
   ],
   "source": [
    "df.duration_ms.plot.box(figsize=(5,5))\n",
    "print((df.duration_ms.idxmin(), df.duration_ms.min()))\n",
    "print((df.duration_ms.idxmax(), df.duration_ms.max()))"
   ]
  },
  {
   "cell_type": "markdown",
   "id": "b26bcdec",
   "metadata": {},
   "source": [
    "#### Are there any artists that have more than 1 popular track? If yes, which and how many?"
   ]
  },
  {
   "cell_type": "code",
   "execution_count": 129,
   "id": "7aed90d9",
   "metadata": {},
   "outputs": [
    {
     "data": {
      "text/plain": [
       "artist\n",
       "Travis Scott     3.0\n",
       "Billie Eilish    3.0\n",
       "Dua Lipa         3.0\n",
       "Justin Bieber    2.0\n",
       "Post Malone      2.0\n",
       "Harry Styles     2.0\n",
       "Lewis Capaldi    2.0\n",
       "Name: artist, dtype: float64"
      ]
     },
     "execution_count": 129,
     "metadata": {},
     "output_type": "execute_result"
    }
   ],
   "source": [
    "track_count = df.groupby(['artist'])['artist'].count().sort_values(ascending=False)\n",
    "track_count .where(track_count  > 1).dropna()"
   ]
  },
  {
   "cell_type": "markdown",
   "id": "0fa6aced",
   "metadata": {},
   "source": [
    "#### Who was the most popular artist?"
   ]
  },
  {
   "cell_type": "code",
   "execution_count": 142,
   "id": "7fd9001c",
   "metadata": {},
   "outputs": [
    {
     "data": {
      "text/plain": [
       "artist\n",
       "Travis Scott     3.0\n",
       "Billie Eilish    3.0\n",
       "Dua Lipa         3.0\n",
       "Name: artist, dtype: float64"
      ]
     },
     "execution_count": 142,
     "metadata": {},
     "output_type": "execute_result"
    }
   ],
   "source": [
    "# Finding the artists with more tracks among the popular artists.\n",
    "\n",
    "track_count.where(track_count  == track_count.max()).dropna()"
   ]
  },
  {
   "cell_type": "code",
   "execution_count": 148,
   "id": "893bcb11",
   "metadata": {},
   "outputs": [
    {
     "name": "stdout",
     "output_type": "stream",
     "text": [
      "The most popular artist is Dua Lipa with 3.0 tracks and lower position in the track list.\n"
     ]
    }
   ],
   "source": [
    "# From the popular artist we find the artist that its position is lower in the 50 top tracks list\n",
    "\n",
    "most_popular_artist = df[df[\"artist\"].isin(popular_artist.index.tolist())].iloc[0]\n",
    "print(f'The most popular artist is {most_popular_artist.artist} with {popular_artist[most_popular_artist.artist]} tracks and lower position in the track list.')"
   ]
  },
  {
   "cell_type": "markdown",
   "id": "a8a3181e",
   "metadata": {},
   "source": [
    "#### How many artists in total have their songs in the top 50?"
   ]
  },
  {
   "cell_type": "code",
   "execution_count": 149,
   "id": "a141e503",
   "metadata": {},
   "outputs": [
    {
     "name": "stdout",
     "output_type": "stream",
     "text": [
      "40 artist in total have their song in the top 50 Spotify tracks.\n"
     ]
    }
   ],
   "source": [
    "print(f'{len(df.artist.unique())} artist in total have their song in the top 50 Spotify tracks.')"
   ]
  },
  {
   "cell_type": "markdown",
   "id": "1f67dfbc",
   "metadata": {},
   "source": [
    "#### Are there any albums that have more than 1 popular track? If yes, which and how many?"
   ]
  },
  {
   "cell_type": "code",
   "execution_count": 150,
   "id": "2df04247",
   "metadata": {},
   "outputs": [
    {
     "data": {
      "text/plain": [
       "album\n",
       "Future Nostalgia        3.0\n",
       "Fine Line               2.0\n",
       "Hollywood's Bleeding    2.0\n",
       "Changes                 2.0\n",
       "Name: album, dtype: float64"
      ]
     },
     "execution_count": 150,
     "metadata": {},
     "output_type": "execute_result"
    }
   ],
   "source": [
    "track_count = df.groupby(['album'])['album'].count().sort_values(ascending=False)\n",
    "track_count.where(track_count  > 1).dropna()"
   ]
  },
  {
   "cell_type": "code",
   "execution_count": 151,
   "id": "3e5a786e",
   "metadata": {},
   "outputs": [
    {
     "name": "stdout",
     "output_type": "stream",
     "text": [
      "45 albums in total have their songs in the top 50 Spotify tracks.\n"
     ]
    }
   ],
   "source": [
    "print(f'{len(df.album.unique())} albums in total have their songs in the top 50 Spotify tracks.')"
   ]
  },
  {
   "cell_type": "markdown",
   "id": "53706124",
   "metadata": {},
   "source": [
    "#### Which tracks have a danceability score above 0.7?"
   ]
  },
  {
   "cell_type": "code",
   "execution_count": 152,
   "id": "8643c5c6",
   "metadata": {},
   "outputs": [
    {
     "data": {
      "text/html": [
       "<div>\n",
       "<style scoped>\n",
       "    .dataframe tbody tr th:only-of-type {\n",
       "        vertical-align: middle;\n",
       "    }\n",
       "\n",
       "    .dataframe tbody tr th {\n",
       "        vertical-align: top;\n",
       "    }\n",
       "\n",
       "    .dataframe thead th {\n",
       "        text-align: right;\n",
       "    }\n",
       "</style>\n",
       "<table border=\"1\" class=\"dataframe\">\n",
       "  <thead>\n",
       "    <tr style=\"text-align: right;\">\n",
       "      <th></th>\n",
       "      <th>artist</th>\n",
       "      <th>album</th>\n",
       "      <th>track_name</th>\n",
       "      <th>track_id</th>\n",
       "      <th>energy</th>\n",
       "      <th>danceability</th>\n",
       "      <th>key</th>\n",
       "      <th>loudness</th>\n",
       "      <th>acousticness</th>\n",
       "      <th>speechiness</th>\n",
       "      <th>instrumentalness</th>\n",
       "      <th>liveness</th>\n",
       "      <th>valence</th>\n",
       "      <th>tempo</th>\n",
       "      <th>duration_ms</th>\n",
       "      <th>genre</th>\n",
       "    </tr>\n",
       "  </thead>\n",
       "  <tbody>\n",
       "    <tr>\n",
       "      <th>1</th>\n",
       "      <td>Tones And I</td>\n",
       "      <td>Dance Monkey</td>\n",
       "      <td>Dance Monkey</td>\n",
       "      <td>1rgnBhdG2JDFTbYkYRZAku</td>\n",
       "      <td>0.593</td>\n",
       "      <td>0.825</td>\n",
       "      <td>6</td>\n",
       "      <td>-6.401</td>\n",
       "      <td>0.6880</td>\n",
       "      <td>0.0988</td>\n",
       "      <td>0.000161</td>\n",
       "      <td>0.1700</td>\n",
       "      <td>0.540</td>\n",
       "      <td>98.078</td>\n",
       "      <td>209755</td>\n",
       "      <td>Alternative/Indie</td>\n",
       "    </tr>\n",
       "    <tr>\n",
       "      <th>2</th>\n",
       "      <td>Roddy Ricch</td>\n",
       "      <td>Please Excuse Me For Being Antisocial</td>\n",
       "      <td>The Box</td>\n",
       "      <td>0nbXyq5TXYPCO7pr3N8S4I</td>\n",
       "      <td>0.586</td>\n",
       "      <td>0.896</td>\n",
       "      <td>10</td>\n",
       "      <td>-6.687</td>\n",
       "      <td>0.1040</td>\n",
       "      <td>0.0559</td>\n",
       "      <td>0.000000</td>\n",
       "      <td>0.7900</td>\n",
       "      <td>0.642</td>\n",
       "      <td>116.971</td>\n",
       "      <td>196653</td>\n",
       "      <td>Hip-Hop/Rap</td>\n",
       "    </tr>\n",
       "    <tr>\n",
       "      <th>3</th>\n",
       "      <td>SAINt JHN</td>\n",
       "      <td>Roses (Imanbek Remix)</td>\n",
       "      <td>Roses - Imanbek Remix</td>\n",
       "      <td>2Wo6QQD1KMDWeFkkjLqwx5</td>\n",
       "      <td>0.721</td>\n",
       "      <td>0.785</td>\n",
       "      <td>8</td>\n",
       "      <td>-5.457</td>\n",
       "      <td>0.0149</td>\n",
       "      <td>0.0506</td>\n",
       "      <td>0.004320</td>\n",
       "      <td>0.2850</td>\n",
       "      <td>0.894</td>\n",
       "      <td>121.962</td>\n",
       "      <td>176219</td>\n",
       "      <td>Dance/Electronic</td>\n",
       "    </tr>\n",
       "    <tr>\n",
       "      <th>4</th>\n",
       "      <td>Dua Lipa</td>\n",
       "      <td>Future Nostalgia</td>\n",
       "      <td>Don't Start Now</td>\n",
       "      <td>3PfIrDoz19wz7qK7tYeu62</td>\n",
       "      <td>0.793</td>\n",
       "      <td>0.793</td>\n",
       "      <td>11</td>\n",
       "      <td>-4.521</td>\n",
       "      <td>0.0123</td>\n",
       "      <td>0.0830</td>\n",
       "      <td>0.000000</td>\n",
       "      <td>0.0951</td>\n",
       "      <td>0.679</td>\n",
       "      <td>123.950</td>\n",
       "      <td>183290</td>\n",
       "      <td>Nu-disco</td>\n",
       "    </tr>\n",
       "    <tr>\n",
       "      <th>5</th>\n",
       "      <td>DaBaby</td>\n",
       "      <td>BLAME IT ON BABY</td>\n",
       "      <td>ROCKSTAR (feat. Roddy Ricch)</td>\n",
       "      <td>7ytR5pFWmSjzHJIeQkgog4</td>\n",
       "      <td>0.690</td>\n",
       "      <td>0.746</td>\n",
       "      <td>11</td>\n",
       "      <td>-7.956</td>\n",
       "      <td>0.2470</td>\n",
       "      <td>0.1640</td>\n",
       "      <td>0.000000</td>\n",
       "      <td>0.1010</td>\n",
       "      <td>0.497</td>\n",
       "      <td>89.977</td>\n",
       "      <td>181733</td>\n",
       "      <td>Hip-Hop/Rap</td>\n",
       "    </tr>\n",
       "  </tbody>\n",
       "</table>\n",
       "</div>"
      ],
      "text/plain": [
       "        artist                                  album  \\\n",
       "1  Tones And I                           Dance Monkey   \n",
       "2  Roddy Ricch  Please Excuse Me For Being Antisocial   \n",
       "3    SAINt JHN                  Roses (Imanbek Remix)   \n",
       "4     Dua Lipa                       Future Nostalgia   \n",
       "5       DaBaby                       BLAME IT ON BABY   \n",
       "\n",
       "                     track_name                track_id  energy  danceability  \\\n",
       "1                  Dance Monkey  1rgnBhdG2JDFTbYkYRZAku   0.593         0.825   \n",
       "2                       The Box  0nbXyq5TXYPCO7pr3N8S4I   0.586         0.896   \n",
       "3         Roses - Imanbek Remix  2Wo6QQD1KMDWeFkkjLqwx5   0.721         0.785   \n",
       "4               Don't Start Now  3PfIrDoz19wz7qK7tYeu62   0.793         0.793   \n",
       "5  ROCKSTAR (feat. Roddy Ricch)  7ytR5pFWmSjzHJIeQkgog4   0.690         0.746   \n",
       "\n",
       "   key  loudness  acousticness  speechiness  instrumentalness  liveness  \\\n",
       "1    6    -6.401        0.6880       0.0988          0.000161    0.1700   \n",
       "2   10    -6.687        0.1040       0.0559          0.000000    0.7900   \n",
       "3    8    -5.457        0.0149       0.0506          0.004320    0.2850   \n",
       "4   11    -4.521        0.0123       0.0830          0.000000    0.0951   \n",
       "5   11    -7.956        0.2470       0.1640          0.000000    0.1010   \n",
       "\n",
       "   valence    tempo  duration_ms              genre  \n",
       "1    0.540   98.078       209755  Alternative/Indie  \n",
       "2    0.642  116.971       196653        Hip-Hop/Rap  \n",
       "3    0.894  121.962       176219   Dance/Electronic  \n",
       "4    0.679  123.950       183290           Nu-disco  \n",
       "5    0.497   89.977       181733        Hip-Hop/Rap  "
      ]
     },
     "execution_count": 152,
     "metadata": {},
     "output_type": "execute_result"
    }
   ],
   "source": [
    "df[df['danceability'] > 0.7].head()"
   ]
  },
  {
   "cell_type": "markdown",
   "id": "f7e344aa",
   "metadata": {},
   "source": [
    "#### Which tracks have a danceability score below 0.4?"
   ]
  },
  {
   "cell_type": "code",
   "execution_count": 153,
   "id": "ee0fc6dc",
   "metadata": {},
   "outputs": [
    {
     "data": {
      "text/html": [
       "<div>\n",
       "<style scoped>\n",
       "    .dataframe tbody tr th:only-of-type {\n",
       "        vertical-align: middle;\n",
       "    }\n",
       "\n",
       "    .dataframe tbody tr th {\n",
       "        vertical-align: top;\n",
       "    }\n",
       "\n",
       "    .dataframe thead th {\n",
       "        text-align: right;\n",
       "    }\n",
       "</style>\n",
       "<table border=\"1\" class=\"dataframe\">\n",
       "  <thead>\n",
       "    <tr style=\"text-align: right;\">\n",
       "      <th></th>\n",
       "      <th>artist</th>\n",
       "      <th>album</th>\n",
       "      <th>track_name</th>\n",
       "      <th>track_id</th>\n",
       "      <th>energy</th>\n",
       "      <th>danceability</th>\n",
       "      <th>key</th>\n",
       "      <th>loudness</th>\n",
       "      <th>acousticness</th>\n",
       "      <th>speechiness</th>\n",
       "      <th>instrumentalness</th>\n",
       "      <th>liveness</th>\n",
       "      <th>valence</th>\n",
       "      <th>tempo</th>\n",
       "      <th>duration_ms</th>\n",
       "      <th>genre</th>\n",
       "    </tr>\n",
       "  </thead>\n",
       "  <tbody>\n",
       "    <tr>\n",
       "      <th>44</th>\n",
       "      <td>Billie Eilish</td>\n",
       "      <td>lovely (with Khalid)</td>\n",
       "      <td>lovely (with Khalid)</td>\n",
       "      <td>0u2P5u6lvoDfwTYjAADbn4</td>\n",
       "      <td>0.296</td>\n",
       "      <td>0.351</td>\n",
       "      <td>4</td>\n",
       "      <td>-10.109</td>\n",
       "      <td>0.934</td>\n",
       "      <td>0.0333</td>\n",
       "      <td>0.0</td>\n",
       "      <td>0.095</td>\n",
       "      <td>0.12</td>\n",
       "      <td>115.284</td>\n",
       "      <td>200186</td>\n",
       "      <td>Chamber pop</td>\n",
       "    </tr>\n",
       "  </tbody>\n",
       "</table>\n",
       "</div>"
      ],
      "text/plain": [
       "           artist                 album            track_name  \\\n",
       "44  Billie Eilish  lovely (with Khalid)  lovely (with Khalid)   \n",
       "\n",
       "                  track_id  energy  danceability  key  loudness  acousticness  \\\n",
       "44  0u2P5u6lvoDfwTYjAADbn4   0.296         0.351    4   -10.109         0.934   \n",
       "\n",
       "    speechiness  instrumentalness  liveness  valence    tempo  duration_ms  \\\n",
       "44       0.0333               0.0     0.095     0.12  115.284       200186   \n",
       "\n",
       "          genre  \n",
       "44  Chamber pop  "
      ]
     },
     "execution_count": 153,
     "metadata": {},
     "output_type": "execute_result"
    }
   ],
   "source": [
    "df[df['danceability'] < 0.4].head()"
   ]
  },
  {
   "cell_type": "markdown",
   "id": "77bedc2c",
   "metadata": {},
   "source": [
    "#### Which tracks have their loudness above -5?"
   ]
  },
  {
   "cell_type": "code",
   "execution_count": 154,
   "id": "23f0d353",
   "metadata": {},
   "outputs": [
    {
     "data": {
      "text/html": [
       "<div>\n",
       "<style scoped>\n",
       "    .dataframe tbody tr th:only-of-type {\n",
       "        vertical-align: middle;\n",
       "    }\n",
       "\n",
       "    .dataframe tbody tr th {\n",
       "        vertical-align: top;\n",
       "    }\n",
       "\n",
       "    .dataframe thead th {\n",
       "        text-align: right;\n",
       "    }\n",
       "</style>\n",
       "<table border=\"1\" class=\"dataframe\">\n",
       "  <thead>\n",
       "    <tr style=\"text-align: right;\">\n",
       "      <th></th>\n",
       "      <th>artist</th>\n",
       "      <th>album</th>\n",
       "      <th>track_name</th>\n",
       "      <th>track_id</th>\n",
       "      <th>energy</th>\n",
       "      <th>danceability</th>\n",
       "      <th>key</th>\n",
       "      <th>loudness</th>\n",
       "      <th>acousticness</th>\n",
       "      <th>speechiness</th>\n",
       "      <th>instrumentalness</th>\n",
       "      <th>liveness</th>\n",
       "      <th>valence</th>\n",
       "      <th>tempo</th>\n",
       "      <th>duration_ms</th>\n",
       "      <th>genre</th>\n",
       "    </tr>\n",
       "  </thead>\n",
       "  <tbody>\n",
       "    <tr>\n",
       "      <th>4</th>\n",
       "      <td>Dua Lipa</td>\n",
       "      <td>Future Nostalgia</td>\n",
       "      <td>Don't Start Now</td>\n",
       "      <td>3PfIrDoz19wz7qK7tYeu62</td>\n",
       "      <td>0.793</td>\n",
       "      <td>0.793</td>\n",
       "      <td>11</td>\n",
       "      <td>-4.521</td>\n",
       "      <td>0.0123</td>\n",
       "      <td>0.0830</td>\n",
       "      <td>0.000000</td>\n",
       "      <td>0.0951</td>\n",
       "      <td>0.679</td>\n",
       "      <td>123.950</td>\n",
       "      <td>183290</td>\n",
       "      <td>Nu-disco</td>\n",
       "    </tr>\n",
       "    <tr>\n",
       "      <th>6</th>\n",
       "      <td>Harry Styles</td>\n",
       "      <td>Fine Line</td>\n",
       "      <td>Watermelon Sugar</td>\n",
       "      <td>6UelLqGlWMcVH1E5c4H7lY</td>\n",
       "      <td>0.816</td>\n",
       "      <td>0.548</td>\n",
       "      <td>0</td>\n",
       "      <td>-4.209</td>\n",
       "      <td>0.1220</td>\n",
       "      <td>0.0465</td>\n",
       "      <td>0.000000</td>\n",
       "      <td>0.3350</td>\n",
       "      <td>0.557</td>\n",
       "      <td>95.390</td>\n",
       "      <td>174000</td>\n",
       "      <td>Pop</td>\n",
       "    </tr>\n",
       "    <tr>\n",
       "      <th>10</th>\n",
       "      <td>KAROL G</td>\n",
       "      <td>Tusa</td>\n",
       "      <td>Tusa</td>\n",
       "      <td>7k4t7uLgtOxPwTpFmtJNTY</td>\n",
       "      <td>0.715</td>\n",
       "      <td>0.803</td>\n",
       "      <td>2</td>\n",
       "      <td>-3.280</td>\n",
       "      <td>0.2950</td>\n",
       "      <td>0.2980</td>\n",
       "      <td>0.000134</td>\n",
       "      <td>0.0574</td>\n",
       "      <td>0.574</td>\n",
       "      <td>101.085</td>\n",
       "      <td>200960</td>\n",
       "      <td>Pop</td>\n",
       "    </tr>\n",
       "    <tr>\n",
       "      <th>12</th>\n",
       "      <td>Post Malone</td>\n",
       "      <td>Hollywood's Bleeding</td>\n",
       "      <td>Circles</td>\n",
       "      <td>21jGcNKet2qwijlDFuPiPb</td>\n",
       "      <td>0.762</td>\n",
       "      <td>0.695</td>\n",
       "      <td>0</td>\n",
       "      <td>-3.497</td>\n",
       "      <td>0.1920</td>\n",
       "      <td>0.0395</td>\n",
       "      <td>0.002440</td>\n",
       "      <td>0.0863</td>\n",
       "      <td>0.553</td>\n",
       "      <td>120.042</td>\n",
       "      <td>215280</td>\n",
       "      <td>Pop/Soft Rock</td>\n",
       "    </tr>\n",
       "    <tr>\n",
       "      <th>16</th>\n",
       "      <td>Lewis Capaldi</td>\n",
       "      <td>Divinely Uninspired To A Hellish Extent (Exten...</td>\n",
       "      <td>Before You Go</td>\n",
       "      <td>2gMXnyrvIjhVBUZwvLZDMP</td>\n",
       "      <td>0.575</td>\n",
       "      <td>0.459</td>\n",
       "      <td>3</td>\n",
       "      <td>-4.858</td>\n",
       "      <td>0.6040</td>\n",
       "      <td>0.0573</td>\n",
       "      <td>0.000000</td>\n",
       "      <td>0.0885</td>\n",
       "      <td>0.183</td>\n",
       "      <td>111.881</td>\n",
       "      <td>215107</td>\n",
       "      <td>Alternative/Indie</td>\n",
       "    </tr>\n",
       "  </tbody>\n",
       "</table>\n",
       "</div>"
      ],
      "text/plain": [
       "           artist                                              album  \\\n",
       "4        Dua Lipa                                   Future Nostalgia   \n",
       "6    Harry Styles                                          Fine Line   \n",
       "10        KAROL G                                               Tusa   \n",
       "12    Post Malone                               Hollywood's Bleeding   \n",
       "16  Lewis Capaldi  Divinely Uninspired To A Hellish Extent (Exten...   \n",
       "\n",
       "          track_name                track_id  energy  danceability  key  \\\n",
       "4    Don't Start Now  3PfIrDoz19wz7qK7tYeu62   0.793         0.793   11   \n",
       "6   Watermelon Sugar  6UelLqGlWMcVH1E5c4H7lY   0.816         0.548    0   \n",
       "10              Tusa  7k4t7uLgtOxPwTpFmtJNTY   0.715         0.803    2   \n",
       "12           Circles  21jGcNKet2qwijlDFuPiPb   0.762         0.695    0   \n",
       "16     Before You Go  2gMXnyrvIjhVBUZwvLZDMP   0.575         0.459    3   \n",
       "\n",
       "    loudness  acousticness  speechiness  instrumentalness  liveness  valence  \\\n",
       "4     -4.521        0.0123       0.0830          0.000000    0.0951    0.679   \n",
       "6     -4.209        0.1220       0.0465          0.000000    0.3350    0.557   \n",
       "10    -3.280        0.2950       0.2980          0.000134    0.0574    0.574   \n",
       "12    -3.497        0.1920       0.0395          0.002440    0.0863    0.553   \n",
       "16    -4.858        0.6040       0.0573          0.000000    0.0885    0.183   \n",
       "\n",
       "      tempo  duration_ms              genre  \n",
       "4   123.950       183290           Nu-disco  \n",
       "6    95.390       174000                Pop  \n",
       "10  101.085       200960                Pop  \n",
       "12  120.042       215280      Pop/Soft Rock  \n",
       "16  111.881       215107  Alternative/Indie  "
      ]
     },
     "execution_count": 154,
     "metadata": {},
     "output_type": "execute_result"
    }
   ],
   "source": [
    "df[df['loudness'] > -5].head()"
   ]
  },
  {
   "cell_type": "markdown",
   "id": "4c5cd682",
   "metadata": {},
   "source": [
    "#### Which tracks have their loudness below -8?"
   ]
  },
  {
   "cell_type": "code",
   "execution_count": 155,
   "id": "d69b09d5",
   "metadata": {},
   "outputs": [
    {
     "data": {
      "text/html": [
       "<div>\n",
       "<style scoped>\n",
       "    .dataframe tbody tr th:only-of-type {\n",
       "        vertical-align: middle;\n",
       "    }\n",
       "\n",
       "    .dataframe tbody tr th {\n",
       "        vertical-align: top;\n",
       "    }\n",
       "\n",
       "    .dataframe thead th {\n",
       "        text-align: right;\n",
       "    }\n",
       "</style>\n",
       "<table border=\"1\" class=\"dataframe\">\n",
       "  <thead>\n",
       "    <tr style=\"text-align: right;\">\n",
       "      <th></th>\n",
       "      <th>artist</th>\n",
       "      <th>album</th>\n",
       "      <th>track_name</th>\n",
       "      <th>track_id</th>\n",
       "      <th>energy</th>\n",
       "      <th>danceability</th>\n",
       "      <th>key</th>\n",
       "      <th>loudness</th>\n",
       "      <th>acousticness</th>\n",
       "      <th>speechiness</th>\n",
       "      <th>instrumentalness</th>\n",
       "      <th>liveness</th>\n",
       "      <th>valence</th>\n",
       "      <th>tempo</th>\n",
       "      <th>duration_ms</th>\n",
       "      <th>genre</th>\n",
       "    </tr>\n",
       "  </thead>\n",
       "  <tbody>\n",
       "    <tr>\n",
       "      <th>7</th>\n",
       "      <td>Powfu</td>\n",
       "      <td>death bed (coffee for your head)</td>\n",
       "      <td>death bed (coffee for your head)</td>\n",
       "      <td>7eJMfftS33KTjuF7lTsMCx</td>\n",
       "      <td>0.431</td>\n",
       "      <td>0.726</td>\n",
       "      <td>8</td>\n",
       "      <td>-8.765</td>\n",
       "      <td>0.731</td>\n",
       "      <td>0.1350</td>\n",
       "      <td>0.000000</td>\n",
       "      <td>0.6960</td>\n",
       "      <td>0.348</td>\n",
       "      <td>144.026</td>\n",
       "      <td>173333</td>\n",
       "      <td>Hip-Hop/Rap</td>\n",
       "    </tr>\n",
       "    <tr>\n",
       "      <th>8</th>\n",
       "      <td>Trevor Daniel</td>\n",
       "      <td>Nicotine</td>\n",
       "      <td>Falling</td>\n",
       "      <td>2rRJrJEo19S2J82BDsQ3F7</td>\n",
       "      <td>0.430</td>\n",
       "      <td>0.784</td>\n",
       "      <td>10</td>\n",
       "      <td>-8.756</td>\n",
       "      <td>0.123</td>\n",
       "      <td>0.0364</td>\n",
       "      <td>0.000000</td>\n",
       "      <td>0.0887</td>\n",
       "      <td>0.236</td>\n",
       "      <td>127.087</td>\n",
       "      <td>159382</td>\n",
       "      <td>R&amp;B/Hip-Hop alternative</td>\n",
       "    </tr>\n",
       "    <tr>\n",
       "      <th>15</th>\n",
       "      <td>Drake</td>\n",
       "      <td>Dark Lane Demo Tapes</td>\n",
       "      <td>Toosie Slide</td>\n",
       "      <td>466cKvZn1j45IpxDdYZqdA</td>\n",
       "      <td>0.490</td>\n",
       "      <td>0.830</td>\n",
       "      <td>1</td>\n",
       "      <td>-8.820</td>\n",
       "      <td>0.289</td>\n",
       "      <td>0.2090</td>\n",
       "      <td>0.000003</td>\n",
       "      <td>0.1130</td>\n",
       "      <td>0.845</td>\n",
       "      <td>81.604</td>\n",
       "      <td>247059</td>\n",
       "      <td>Hip-Hop/Rap</td>\n",
       "    </tr>\n",
       "    <tr>\n",
       "      <th>20</th>\n",
       "      <td>Jawsh 685</td>\n",
       "      <td>Savage Love (Laxed - Siren Beat)</td>\n",
       "      <td>Savage Love (Laxed - Siren Beat)</td>\n",
       "      <td>1xQ6trAsedVPCdbtDAmk0c</td>\n",
       "      <td>0.481</td>\n",
       "      <td>0.767</td>\n",
       "      <td>0</td>\n",
       "      <td>-8.520</td>\n",
       "      <td>0.234</td>\n",
       "      <td>0.0803</td>\n",
       "      <td>0.000000</td>\n",
       "      <td>0.2690</td>\n",
       "      <td>0.761</td>\n",
       "      <td>150.076</td>\n",
       "      <td>171375</td>\n",
       "      <td>Hip-Hop/Rap</td>\n",
       "    </tr>\n",
       "    <tr>\n",
       "      <th>24</th>\n",
       "      <td>Billie Eilish</td>\n",
       "      <td>everything i wanted</td>\n",
       "      <td>everything i wanted</td>\n",
       "      <td>3ZCTVFBt2Brf31RLEnCkWJ</td>\n",
       "      <td>0.225</td>\n",
       "      <td>0.704</td>\n",
       "      <td>6</td>\n",
       "      <td>-14.454</td>\n",
       "      <td>0.902</td>\n",
       "      <td>0.0994</td>\n",
       "      <td>0.657000</td>\n",
       "      <td>0.1060</td>\n",
       "      <td>0.243</td>\n",
       "      <td>120.006</td>\n",
       "      <td>245426</td>\n",
       "      <td>Pop</td>\n",
       "    </tr>\n",
       "  </tbody>\n",
       "</table>\n",
       "</div>"
      ],
      "text/plain": [
       "           artist                             album  \\\n",
       "7           Powfu  death bed (coffee for your head)   \n",
       "8   Trevor Daniel                          Nicotine   \n",
       "15          Drake              Dark Lane Demo Tapes   \n",
       "20      Jawsh 685  Savage Love (Laxed - Siren Beat)   \n",
       "24  Billie Eilish               everything i wanted   \n",
       "\n",
       "                          track_name                track_id  energy  \\\n",
       "7   death bed (coffee for your head)  7eJMfftS33KTjuF7lTsMCx   0.431   \n",
       "8                            Falling  2rRJrJEo19S2J82BDsQ3F7   0.430   \n",
       "15                      Toosie Slide  466cKvZn1j45IpxDdYZqdA   0.490   \n",
       "20  Savage Love (Laxed - Siren Beat)  1xQ6trAsedVPCdbtDAmk0c   0.481   \n",
       "24               everything i wanted  3ZCTVFBt2Brf31RLEnCkWJ   0.225   \n",
       "\n",
       "    danceability  key  loudness  acousticness  speechiness  instrumentalness  \\\n",
       "7          0.726    8    -8.765         0.731       0.1350          0.000000   \n",
       "8          0.784   10    -8.756         0.123       0.0364          0.000000   \n",
       "15         0.830    1    -8.820         0.289       0.2090          0.000003   \n",
       "20         0.767    0    -8.520         0.234       0.0803          0.000000   \n",
       "24         0.704    6   -14.454         0.902       0.0994          0.657000   \n",
       "\n",
       "    liveness  valence    tempo  duration_ms                    genre  \n",
       "7     0.6960    0.348  144.026       173333              Hip-Hop/Rap  \n",
       "8     0.0887    0.236  127.087       159382  R&B/Hip-Hop alternative  \n",
       "15    0.1130    0.845   81.604       247059              Hip-Hop/Rap  \n",
       "20    0.2690    0.761  150.076       171375              Hip-Hop/Rap  \n",
       "24    0.1060    0.243  120.006       245426                      Pop  "
      ]
     },
     "execution_count": 155,
     "metadata": {},
     "output_type": "execute_result"
    }
   ],
   "source": [
    "df[df['loudness'] < -8].head()"
   ]
  },
  {
   "cell_type": "markdown",
   "id": "e3dda72c",
   "metadata": {},
   "source": [
    "#### Which track is the longest?"
   ]
  },
  {
   "cell_type": "code",
   "execution_count": 156,
   "id": "d57ade6e",
   "metadata": {},
   "outputs": [
    {
     "data": {
      "text/plain": [
       "artist                        Travis Scott\n",
       "album                           ASTROWORLD\n",
       "track_name                      SICKO MODE\n",
       "track_id            2xLMifQCjDGFmkHkpNLD9h\n",
       "energy                                0.73\n",
       "danceability                         0.834\n",
       "key                                      8\n",
       "loudness                            -3.714\n",
       "acousticness                       0.00513\n",
       "speechiness                          0.222\n",
       "instrumentalness                       0.0\n",
       "liveness                             0.124\n",
       "valence                              0.446\n",
       "tempo                              155.008\n",
       "duration_ms                         312820\n",
       "genre                          Hip-Hop/Rap\n",
       "Name: 49, dtype: object"
      ]
     },
     "execution_count": 156,
     "metadata": {},
     "output_type": "execute_result"
    }
   ],
   "source": [
    "df.iloc[df['duration_ms'].idxmax()]"
   ]
  },
  {
   "cell_type": "markdown",
   "id": "f2e3095f",
   "metadata": {},
   "source": [
    "#### Which track is the shortest?"
   ]
  },
  {
   "cell_type": "code",
   "execution_count": 157,
   "id": "bea23ef4",
   "metadata": {},
   "outputs": [
    {
     "data": {
      "text/plain": [
       "artist                            24kGoldn\n",
       "album               Mood (feat. iann dior)\n",
       "track_name          Mood (feat. iann dior)\n",
       "track_id            3tjFYV6RSFtuktYl3ZtYcq\n",
       "energy                               0.722\n",
       "danceability                           0.7\n",
       "key                                      7\n",
       "loudness                            -3.558\n",
       "acousticness                         0.221\n",
       "speechiness                         0.0369\n",
       "instrumentalness                       0.0\n",
       "liveness                             0.272\n",
       "valence                              0.756\n",
       "tempo                               90.989\n",
       "duration_ms                         140526\n",
       "genre                              Pop rap\n",
       "Name: 23, dtype: object"
      ]
     },
     "execution_count": 157,
     "metadata": {},
     "output_type": "execute_result"
    }
   ],
   "source": [
    "df.iloc[df['duration_ms'].idxmin()]"
   ]
  },
  {
   "cell_type": "markdown",
   "id": "023e5ac0",
   "metadata": {},
   "source": [
    "#### Which genre is the most popular?"
   ]
  },
  {
   "cell_type": "code",
   "execution_count": 158,
   "id": "3d6d1ae7",
   "metadata": {},
   "outputs": [
    {
     "data": {
      "text/plain": [
       "genre\n",
       "Pop                                   14\n",
       "Hip-Hop/Rap                           13\n",
       "Dance/Electronic                       5\n",
       "Alternative/Indie                      4\n",
       " Electro-pop                           2\n",
       "R&B/Soul                               2\n",
       "Alternative/reggaeton/experimental     1\n",
       "Chamber pop                            1\n",
       "Dance-pop/Disco                        1\n",
       "Disco-pop                              1\n",
       "Dreampop/Hip-Hop/R&B                   1\n",
       "Hip-Hop/Trap                           1\n",
       "Nu-disco                               1\n",
       "Pop rap                                1\n",
       "Pop/Soft Rock                          1\n",
       "R&B/Hip-Hop alternative                1\n",
       "Name: genre, dtype: int64"
      ]
     },
     "execution_count": 158,
     "metadata": {},
     "output_type": "execute_result"
    }
   ],
   "source": [
    "popular_genre = df.groupby(['genre'])['genre'].count().sort_values(ascending=False)\n",
    "popular_genre"
   ]
  },
  {
   "cell_type": "markdown",
   "id": "94232ced",
   "metadata": {},
   "source": [
    "#### Which genres have just one song on the top 50?"
   ]
  },
  {
   "cell_type": "code",
   "execution_count": 159,
   "id": "72402b6d",
   "metadata": {},
   "outputs": [
    {
     "data": {
      "text/plain": [
       "genre\n",
       "Alternative/reggaeton/experimental    1\n",
       "Chamber pop                           1\n",
       "Dance-pop/Disco                       1\n",
       "Disco-pop                             1\n",
       "Dreampop/Hip-Hop/R&B                  1\n",
       "Hip-Hop/Trap                          1\n",
       "Nu-disco                              1\n",
       "Pop rap                               1\n",
       "Pop/Soft Rock                         1\n",
       "R&B/Hip-Hop alternative               1\n",
       "Name: genre, dtype: int64"
      ]
     },
     "execution_count": 159,
     "metadata": {},
     "output_type": "execute_result"
    }
   ],
   "source": [
    "popular_genre[popular_genre == 1]"
   ]
  },
  {
   "cell_type": "markdown",
   "id": "bc6380c9",
   "metadata": {},
   "source": [
    "#### Which features are strongly positively correlated? Which features are strongly negatively correlated? Which features are not correlated?"
   ]
  },
  {
   "cell_type": "code",
   "execution_count": 160,
   "id": "79856b54",
   "metadata": {},
   "outputs": [
    {
     "data": {
      "text/plain": [
       "<AxesSubplot:>"
      ]
     },
     "execution_count": 160,
     "metadata": {},
     "output_type": "execute_result"
    },
    {
     "data": {
      "image/png": "[encoded data removed]",
      "text/plain": [
       "<Figure size 432x288 with 2 Axes>"
      ]
     },
     "metadata": {
      "needs_background": "light"
     },
     "output_type": "display_data"
    }
   ],
   "source": [
    "# Generate a heat map to visualize correlation between features using seaborn library imported below\n",
    "\n",
    "import seaborn as sns\n",
    "\n",
    "correlation = df.corr()\n",
    "sns.heatmap(correlation, annot=True, linewidths=.5)"
   ]
  },
  {
   "cell_type": "code",
   "execution_count": 161,
   "id": "b563b984",
   "metadata": {},
   "outputs": [],
   "source": [
    "#correlation >= 0.8"
   ]
  },
  {
   "cell_type": "code",
   "execution_count": 162,
   "id": "431b549a",
   "metadata": {},
   "outputs": [],
   "source": [
    "#correlation < 0.8"
   ]
  },
  {
   "cell_type": "code",
   "execution_count": 163,
   "id": "3375da9e",
   "metadata": {},
   "outputs": [],
   "source": [
    "#correlation < 0.1"
   ]
  },
  {
   "cell_type": "code",
   "execution_count": 164,
   "id": "6406581b",
   "metadata": {},
   "outputs": [],
   "source": [
    "selected_features = ['danceability', 'loudness', 'acousticness']\n",
    "selected_genres = ['Pop', 'Hip-Hop/Rap', 'Dance/Electronic', 'Alternative/Indie']"
   ]
  },
  {
   "cell_type": "code",
   "execution_count": null,
   "id": "0dc9f43c",
   "metadata": {},
   "outputs": [],
   "source": []
  }
 ],
 "metadata": {
  "kernelspec": {
   "display_name": "Python 3 (ipykernel)",
   "language": "python",
   "name": "python3"
  },
  "language_info": {
   "codemirror_mode": {
    "name": "ipython",
    "version": 3
   },
   "file_extension": ".py",
   "mimetype": "text/x-python",
   "name": "python",
   "nbconvert_exporter": "python",
   "pygments_lexer": "ipython3",
   "version": "3.9.12"
  }
 },
 "nbformat": 4,
 "nbformat_minor": 5
}
